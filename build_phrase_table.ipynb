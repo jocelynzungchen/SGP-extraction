{
 "cells": [
  {
   "cell_type": "markdown",
   "metadata": {},
   "source": [
    "## 使用 fast align 過的 UM data 建立 phrase table\n",
    "\n",
    "Step1. build phrase table: for Chinese prepositions -> only align to English prepositions\n",
    "\n",
    "Step2. Delete translations with count < 0.3% of the word's total count\n",
    "\n",
    "Step3. Keep only English-Chinese pair which appears in phrase tables in both translation directions"
   ]
  },
  {
   "cell_type": "code",
   "execution_count": 1,
   "metadata": {},
   "outputs": [],
   "source": [
    "from collections import Counter, defaultdict\n",
    "import json\n",
    "import re"
   ]
  },
  {
   "cell_type": "markdown",
   "metadata": {},
   "source": [
    "##### 英文介系詞限定為 GRAMMAR PATTERN 中出現過的介詞、中文介系詞限定為 annotated data 中標記過的介詞"
   ]
  },
  {
   "cell_type": "code",
   "execution_count": 2,
   "metadata": {},
   "outputs": [],
   "source": [
    "postag = {'。', '，', '、', '「', '」', '！', '？', '：', '；', '–'}\n",
    "prep_en = {'about', 'across', 'after', 'against', 'among', 'around', 'as', 'at', 'between', 'by', 'for', 'from', 'in', 'into', 'like', 'not', 'of',\n",
    " 'off', 'on', 'onto', 'out', 'over', 'round', 'so', 'though', 'through', 'to', 'together', 'toward', 'towards', 'under', 'with'}\n",
    "\n",
    "with open(\"data/annotation_prep.txt\") as file:\n",
    "    prep_ch = set([line.strip() for line in file]) - set(['而', '是', '使', '就'])"
   ]
  },
  {
   "cell_type": "code",
   "execution_count": 3,
   "metadata": {},
   "outputs": [],
   "source": [
    "align_file = open(\"data/UM.align\").readlines()\n",
    "align_sent_file  = open(\"data/UM_align_file.txt\").readlines()"
   ]
  },
  {
   "cell_type": "markdown",
   "metadata": {},
   "source": [
    "### Step1. Build phrase table of English and Chinese"
   ]
  },
  {
   "cell_type": "code",
   "execution_count": 5,
   "metadata": {},
   "outputs": [],
   "source": [
    "def build_phrase_table(align_file, align_sent_file):\n",
    "    trans_dict_en = defaultdict(Counter) # trans_dict['talk']['討論'] = 5\n",
    "    trans_dict_ch = defaultdict(Counter) # trans_dict['討論']['talk] = 5\n",
    "    sent_dict_en = defaultdict(list) # 單句 alignment\n",
    "    sent_dict_ch = defaultdict(list)\n",
    "    \n",
    "    for align, sent in zip(align_file, align_sent_file):\n",
    "        align = align.split()\n",
    "        sent_en = sent.split('|||')[0].strip()\n",
    "        sent_ch = sent.split('|||')[1].strip()\n",
    "        \n",
    "        for word_pair in align:\n",
    "            word_pair = word_pair.split('-')\n",
    "            try:\n",
    "                en_word = sent_en.split()[int(word_pair[0])].lower()\n",
    "                ch_word = sent_ch.split()[int(word_pair[1])]\n",
    "            except:\n",
    "                continue\n",
    "            if re.findall('[\\u4e00-\\u9fa5]+', ch_word) and ch_word != '了' and en_word.isalpha(): # check 中英對應\n",
    "                if ch_word in prep_ch: # 中文介詞 只對應到 英文介詞\n",
    "                    if en_word in prep_en:\n",
    "                        sent_dict_en[en_word] += [(ch_word, int(word_pair[1]))]\n",
    "                        sent_dict_ch[ch_word] += [(en_word, int(word_pair[0]))]\n",
    "                else:\n",
    "                    sent_dict_en[en_word] += [(ch_word, int(word_pair[1]))]\n",
    "                    sent_dict_ch[ch_word] += [(en_word, int(word_pair[0]))]\n",
    "        \n",
    "        for en_word, ch_words in sent_dict_en.items():\n",
    "            ch_words = sorted(ch_words, key=lambda k: k[1])\n",
    "            ch_trans = ' '.join([ w for w, index in ch_words])\n",
    "            trans_dict_en[en_word][ch_trans] += 1\n",
    "        for ch_word, en_words in sent_dict_ch.items():\n",
    "            en_words = sorted(en_words, key=lambda k: k[1])\n",
    "            en_trans = ' '.join([ w for w, index in en_words])\n",
    "            trans_dict_ch[ch_word][en_trans] += 1\n",
    "            \n",
    "        sent_dict_en.clear()\n",
    "        sent_dict_ch.clear()\n",
    "    return trans_dict_en, trans_dict_ch\n",
    "\n",
    "trans_dict_en, trans_dict_ch = build_phrase_table(align_file, align_sent_file)"
   ]
  },
  {
   "cell_type": "markdown",
   "metadata": {},
   "source": [
    "### Step2. Delete count < 0.3% total count"
   ]
  },
  {
   "cell_type": "code",
   "execution_count": 9,
   "metadata": {},
   "outputs": [],
   "source": [
    "word_count_en = Counter() # word_count_en['talk'] = count\n",
    "word_count_ch = Counter()\n",
    "\n",
    "for sent in align_sent_file:\n",
    "    sent_en = sent.split('|||')[0].strip()\n",
    "    sent_ch = sent.split('|||')[1].strip()\n",
    "    for w_e in sent_en.split():\n",
    "        word_count_en[w_e] += 1\n",
    "    for w_c in sent_ch.split():\n",
    "        word_count_ch[w_c] += 1"
   ]
  },
  {
   "cell_type": "code",
   "execution_count": 23,
   "metadata": {},
   "outputs": [],
   "source": [
    "def filt_by_count(dict_, word_count):\n",
    "    trans_filt = defaultdict(Counter)\n",
    "    for word in dict_:\n",
    "        threshold = word_count[word]*0.003 if word_count[word]*0.003 > 3 else 3\n",
    "        for trans, count in dict_[word].items():\n",
    "            if count >= threshold:\n",
    "                trans_filt[word][trans] = count\n",
    "    return trans_filt\n",
    "\n",
    "trans_dict_en_filt = filt_by_count(trans_dict_en, word_count_en)\n",
    "trans_dict_ch_filt = filt_by_count(trans_dict_ch, word_count_ch)"
   ]
  },
  {
   "cell_type": "markdown",
   "metadata": {},
   "source": [
    "### Step3. Remove translations that are not in reverse direction of the other phrase table"
   ]
  },
  {
   "cell_type": "code",
   "execution_count": 28,
   "metadata": {},
   "outputs": [],
   "source": [
    "def filt_by_trans(dict_1, dict_2):\n",
    "    trans_new = defaultdict(Counter)\n",
    "    for word in dict_1:\n",
    "        for trans, count in dict_1[word].items():\n",
    "            if word in dict_2[trans]:\n",
    "                trans_new[word][trans] = count\n",
    "    return trans_new\n",
    "\n",
    "trans_dict = filt_by_trans(trans_dict_en_filt, trans_dict_ch_filt)"
   ]
  },
  {
   "cell_type": "code",
   "execution_count": 30,
   "metadata": {
    "collapsed": true,
    "jupyter": {
     "outputs_hidden": true
    }
   },
   "outputs": [
    {
     "data": {
      "text/plain": [
       "[('說', 931),\n",
       " ('談論', 865),\n",
       " ('說話', 683),\n",
       " ('談', 680),\n",
       " ('討論', 530),\n",
       " ('談談', 515),\n",
       " ('會談', 418),\n",
       " ('談話', 333),\n",
       " ('交談', 325),\n",
       " ('談判', 314),\n",
       " ('講', 273),\n",
       " ('談到', 268),\n",
       " ('演講', 201),\n",
       " ('講話', 165),\n",
       " ('聊天', 158),\n",
       " ('對話', 142),\n",
       " ('說服', 87),\n",
       " ('交流', 85),\n",
       " ('聊', 83),\n",
       " ('聊聊', 80),\n",
       " ('提到', 74),\n",
       " ('說到', 70),\n",
       " ('話', 60),\n",
       " ('告訴', 49),\n",
       " ('談起', 48),\n",
       " ('說說', 45)]"
      ]
     },
     "execution_count": 30,
     "metadata": {},
     "output_type": "execute_result"
    }
   ],
   "source": [
    "trans_dict['talk'].most_common()"
   ]
  },
  {
   "cell_type": "markdown",
   "metadata": {},
   "source": [
    "#### write to file"
   ]
  },
  {
   "cell_type": "code",
   "execution_count": 29,
   "metadata": {},
   "outputs": [],
   "source": [
    "with open(\"data/alignment_table_all_final.json\", 'w') as outf:\n",
    "    json.dump(trans_dict, outf, ensure_ascii=False)"
   ]
  },
  {
   "cell_type": "code",
   "execution_count": null,
   "metadata": {},
   "outputs": [],
   "source": []
  }
 ],
 "metadata": {
  "kernelspec": {
   "display_name": "Python 3",
   "language": "python",
   "name": "python3"
  },
  "language_info": {
   "codemirror_mode": {
    "name": "ipython",
    "version": 3
   },
   "file_extension": ".py",
   "mimetype": "text/x-python",
   "name": "python",
   "nbconvert_exporter": "python",
   "pygments_lexer": "ipython3",
   "version": "3.6.5"
  }
 },
 "nbformat": 4,
 "nbformat_minor": 4
}
